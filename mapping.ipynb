{
 "cells": [
  {
   "cell_type": "code",
   "execution_count": 53,
   "metadata": {},
   "outputs": [],
   "source": [
    "import numpy as np\n",
    "import matplotlib.pyplot as plt"
   ]
  },
  {
   "cell_type": "code",
   "execution_count": 54,
   "metadata": {},
   "outputs": [],
   "source": [
    "from dataclasses import dataclass\n",
    "\n",
    "MAX_SPD = 120\n",
    "MIN_SPD = 0\n",
    "MAX_POS_ABS = 360\n",
    "MAX_DELAY = 0.1\n",
    "MIN_DELAY = 0.005\n",
    "ERR = 0.6\n",
    "def linear_mapper(x:float, x_min:float, x_max:float, y_min:float, y_max:float) -> float:\n",
    "    import math\n",
    "    # Clamp the absolute value of 'x' within the specified range [x_min, x_max]\n",
    "    abs_x = abs(x)\n",
    "    clamped_x = max(min(abs_x, x_max), x_min)\n",
    "\n",
    "    # Scale the clamped absolute value 'x' to the range [0, 1]\n",
    "    scaled_x = (clamped_x - x_min) / (x_max - x_min)\n",
    "\n",
    "    mapped_y = scaled_x\n",
    "\n",
    "    # Scale the mapped 'y' value to the range [y_min, y_max]\n",
    "    scaled_y = y_min + (mapped_y * (y_max - y_min))\n",
    "    return scaled_y\n",
    "\n",
    "@dataclass\n",
    "class ExtremumParams:\n",
    "    x_min:float\n",
    "    x_max:float\n",
    "    y_min:float\n",
    "    y_max:float\n",
    "\n",
    "@dataclass\n",
    "class PiecewiseLinearParams:\n",
    "    alpha:float\n",
    "    alpha_slope:float\n",
    "    beta_slope:float\n",
    "    gamma_slope:float\n",
    "\n",
    "def piecewise_linear_mapper(x:float, extremum:ExtremumParams, piecewise:PiecewiseLinearParams) -> float:\n",
    "    import math\n",
    "    # Clamp the absolute value of 'x' within the specified range [x_min, x_max]\n",
    "    x_max = extremum.x_max\n",
    "    x_min = extremum.x_min\n",
    "    y_max = extremum.y_max\n",
    "    y_min = extremum.y_min\n",
    "\n",
    "    scaled_alpha = linear_mapper(piecewise.alpha, x_min, x_max, 0, 1)\n",
    "\n",
    "    abs_x = abs(x)\n",
    "    clamped_x = max(min(abs_x, x_max), x_min)\n",
    "\n",
    "    # Scale the clamped absolute value 'x' to the range [0, 1]\n",
    "    scaled_x = (clamped_x - x_min) / (x_max - x_min)\n",
    "\n",
    "    mapped_y:float\n",
    "    alpha_y = scaled_alpha * piecewise.alpha_slope\n",
    "    \n",
    "    # Calculate the mapped 'y' value based on the piecewise segments\n",
    "    if scaled_x < scaled_alpha:\n",
    "        mapped_y = scaled_x * piecewise.alpha_slope\n",
    "    else:\n",
    "        def line_gamma(x:float) -> float:\n",
    "            return (x - scaled_alpha) * piecewise.gamma_slope + alpha_y\n",
    "        def line_beta(x:float) -> float:\n",
    "            return (x - 1) * piecewise.beta_slope + 1\n",
    "        # find the point where the two lines intersect\n",
    "        # gamma is 2\n",
    "        # beta is 1\n",
    "        y_2 = alpha_y\n",
    "        y_1 = 1\n",
    "        x_2 = scaled_alpha\n",
    "        x_1 = 1\n",
    "        k_1 = piecewise.beta_slope\n",
    "        k_2 = piecewise.gamma_slope\n",
    "        beta_x = (y_2 - y_1 + k_1 * x_1 - k_2 * x_2) / (k_1 - k_2)\n",
    "        if scaled_x < beta_x:\n",
    "            mapped_y = line_gamma(scaled_x)\n",
    "        else:\n",
    "            mapped_y = line_beta(scaled_x)\n",
    "\n",
    "    # Scale the mapped 'y' value to the range [y_min, y_max]\n",
    "    scaled_y = y_min + (mapped_y * (y_max - y_min))\n",
    "    return scaled_y\n"
   ]
  },
  {
   "cell_type": "code",
   "execution_count": 55,
   "metadata": {},
   "outputs": [
    {
     "data": {
      "text/plain": [
       "[<matplotlib.lines.Line2D at 0x107c12530>]"
      ]
     },
     "execution_count": 55,
     "metadata": {},
     "output_type": "execute_result"
    },
    {
     "data": {
      "image/png": "[encoded data removed]",
      "text/plain": [
       "<Figure size 640x480 with 1 Axes>"
      ]
     },
     "metadata": {},
     "output_type": "display_data"
    }
   ],
   "source": [
    "# ex = ExtremumParams(0, MAX_POS_ABS, MIN_SPD, MAX_SPD)\n",
    "# piece = PiecewiseLinearParams(30, 0.3, 0.25, 2)\n",
    "MAX_POS_ABS_PRIME = 18\n",
    "xs = np.arange(-MAX_POS_ABS_PRIME, MAX_POS_ABS_PRIME, 0.1)\n",
    "ex = ExtremumParams(0, MAX_POS_ABS_PRIME, 0, 10)\n",
    "piece = PiecewiseLinearParams(10, 0.5, 0.8, 2.5)\n",
    "# mapper = lambda x: linear_mapper(x, 0, MAX_POS_ABS, MIN_SPD, MAX_SPD)\n",
    "mapper = lambda x: piecewise_linear_mapper(x, ex, piece)\n",
    "ys = list(map(lambda y: mapper(y), xs))\n",
    "plt.plot(xs, ys)"
   ]
  }
 ],
 "metadata": {
  "kernelspec": {
   "display_name": "Python 3",
   "language": "python",
   "name": "python3"
  },
  "language_info": {
   "codemirror_mode": {
    "name": "ipython",
    "version": 3
   },
   "file_extension": ".py",
   "mimetype": "text/x-python",
   "name": "python",
   "nbconvert_exporter": "python",
   "pygments_lexer": "ipython3",
   "version": "3.10.12"
  },
  "orig_nbformat": 4
 },
 "nbformat": 4,
 "nbformat_minor": 2
}
